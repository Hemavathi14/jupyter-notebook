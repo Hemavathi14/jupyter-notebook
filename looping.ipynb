{
 "cells": [
  {
   "cell_type": "markdown",
   "id": "2a403deb-47e8-488b-a7c0-2f27c064da1d",
   "metadata": {},
   "source": [
    "# loops "
   ]
  },
  {
   "cell_type": "markdown",
   "id": "4e5d45b0-13c6-4454-887f-dcc3f10ffc0e",
   "metadata": {},
   "source": [
    "# **Print Numbers 1 to 10:**\n",
    "#    Write a program to print the numbers from 1 to 10 using a loop."
   ]
  },
  {
   "cell_type": "code",
   "execution_count": 2,
   "id": "b53af5aa-5989-4ccd-8507-c2ed8b724e89",
   "metadata": {},
   "outputs": [
    {
     "name": "stdout",
     "output_type": "stream",
     "text": [
      "1 2 3 4 5 6 7 8 9 10 "
     ]
    }
   ],
   "source": [
    "\n",
    "for i in range (1,11):\n",
    "    print(i,end = \" \")"
   ]
  },
  {
   "cell_type": "code",
   "execution_count": null,
   "id": "f3af6f2e-d5c5-474e-99aa-0c799f1b7ef2",
   "metadata": {},
   "outputs": [],
   "source": []
  },
  {
   "cell_type": "code",
   "execution_count": 3,
   "id": "0a658e40-1f2a-44f0-b466-da4680984582",
   "metadata": {},
   "outputs": [
    {
     "name": "stdin",
     "output_type": "stream",
     "text": [
      " enter a number :  13\n"
     ]
    },
    {
     "name": "stdout",
     "output_type": "stream",
     "text": [
      "1x13 = 13\n",
      "2x13 = 26\n",
      "3x13 = 39\n",
      "4x13 = 52\n",
      "5x13 = 65\n",
      "6x13 = 78\n",
      "7x13 = 91\n",
      "8x13 = 104\n",
      "9x13 = 117\n",
      "10x13 = 130\n",
      "11x13 = 143\n",
      "12x13 = 156\n"
     ]
    }
   ],
   "source": [
    "\n",
    "n = int( input (\" enter a number : \"))\n",
    "for i in range (1,13):\n",
    "    print(f\"{i}x{n} = {i*n}\")"
   ]
  },
  {
   "cell_type": "markdown",
   "id": "3c05efaa-8c81-4498-8d28-0555560aa920",
   "metadata": {},
   "source": [
    "# **Sum of N Numbers:**\n",
    "#    Create a program that calculates the sum of the first N natural numbers using a loop."
   ]
  },
  {
   "cell_type": "code",
   "execution_count": 4,
   "id": "5bba0f34-2a43-4227-a919-6602aecca0fe",
   "metadata": {},
   "outputs": [
    {
     "name": "stdin",
     "output_type": "stream",
     "text": [
      " enter a number :  100\n"
     ]
    },
    {
     "name": "stdout",
     "output_type": "stream",
     "text": [
      "5050\n"
     ]
    }
   ],
   "source": [
    "\n",
    "n = int ( input (\" enter a number : \"))\n",
    "sum = 0 \n",
    "for i in range (1, n+1):\n",
    "    sum += i \n",
    "print(sum)\n",
    "                "
   ]
  },
  {
   "cell_type": "markdown",
   "id": "3f615076-a253-4932-b4e3-9d8dc4220625",
   "metadata": {},
   "source": [
    "# **Print Fibonacci Sequence:**\n",
    "#    Implement a program to print the Fibonacci sequence up to a specified number of terms using a loop"
   ]
  },
  {
   "cell_type": "code",
   "execution_count": 12,
   "id": "7bb69325-3b0e-4d7d-afd2-3e47ead43b39",
   "metadata": {},
   "outputs": [
    {
     "name": "stdin",
     "output_type": "stream",
     "text": [
      " enter a number : 14\n"
     ]
    },
    {
     "name": "stdout",
     "output_type": "stream",
     "text": [
      "1 2 3 5 8 13 21 34 55 89 144 233 377 610 "
     ]
    }
   ],
   "source": [
    "\n",
    "\n",
    "n = int ( input (\" enter a number :\"))\n",
    "a=0\n",
    "b=1\n",
    "\n",
    "if n == 0:\n",
    "    print (a)\n",
    "elif n ==1 :\n",
    "    print(b)\n",
    "else:\n",
    "    for i in range (1,n+1):\n",
    "        c = a+b\n",
    "        print(c,end = \" \")\n",
    "        a= b\n",
    "        b= c\n",
    "\n",
    "# using recursion\n",
    "# def fibonacci(n):\n",
    "#     if n == 0:\n",
    "#         print (a)\n",
    "#     elif n ==1 :\n",
    "#         print(b)\n",
    "#     else:\n",
    "#         f = fibonacci(n-1)+fibonacci(n-2)\n",
    "#     print(f)\n",
    "# fibonacci(14)\n",
    "    \n",
    "            "
   ]
  },
  {
   "cell_type": "code",
   "execution_count": 17,
   "id": "83ff8afb-2e23-4a13-beb9-97aad8b854a1",
   "metadata": {},
   "outputs": [
    {
     "name": "stdout",
     "output_type": "stream",
     "text": [
      "[53, 59, 61, 67, 71, 73, 79, 83, 89, 97]\n"
     ]
    }
   ],
   "source": [
    "# **Check for Prime Numbers in a Range:**\n",
    "#    Write a program to find and print all prime numbers within a given range\n",
    "\n",
    "def prime_number(n):\n",
    "    sqrt = int(n**0.5)\n",
    "    for i in range (2,sqrt+1):\n",
    "        if n % i == 0 :\n",
    "            return False\n",
    "    return True\n",
    "x = [j for j in range (50,100) if prime_number(j)]\n",
    "print(x)"
   ]
  },
  {
   "cell_type": "code",
   "execution_count": 26,
   "id": "133f1d72-0354-4149-9493-e3e852e5e7e5",
   "metadata": {},
   "outputs": [
    {
     "name": "stdout",
     "output_type": "stream",
     "text": [
      "54321\n",
      " \n"
     ]
    }
   ],
   "source": [
    "\n",
    "# 7. **Reverse a Number:**\n",
    "#    Implement a program that reverses a given number using a loop.\n",
    "n = 12345\n",
    "rev_num = 0\n",
    "while n > 0 :\n",
    "    rem = n%10\n",
    "    rev_num = rev_num *10 + rem\n",
    "    n //= 10\n",
    "print (rev_num) \n",
    "   \n",
    "    "
   ]
  },
  {
   "cell_type": "code",
   "execution_count": 27,
   "id": "e9466804-44e6-4ec9-abbf-9d09123fe03a",
   "metadata": {},
   "outputs": [
    {
     "name": "stdout",
     "output_type": "stream",
     "text": [
      "5\n"
     ]
    }
   ],
   "source": [
    "# **Count Digits in a Number:**\n",
    "#    Write a program to count the number of digits in a given number using a loop.\n",
    "n = 12345\n",
    "count = 0\n",
    "while n > 0 :\n",
    "    rem = n%10\n",
    "    count +=1\n",
    "    n //= 10\n",
    "print (count) \n",
    "\n"
   ]
  },
  {
   "cell_type": "code",
   "execution_count": 39,
   "id": "1c1f93c1-a46c-4da7-ba46-5084e073315c",
   "metadata": {},
   "outputs": [
    {
     "name": "stdout",
     "output_type": "stream",
     "text": [
      "179\n"
     ]
    }
   ],
   "source": [
    "\n",
    "# 10. **Calculate Average:**\n",
    "#     Write a program to calculate the average of a list of numbers using a loop.\n",
    "l=[34,67,876,87,89,34,67]\n",
    "length = len(l)\n",
    "sum = 0\n",
    "for i in l:\n",
    "    sum += i\n",
    "avg = sum /length\n",
    "print(int(avg))\n",
    "  "
   ]
  },
  {
   "cell_type": "code",
   "execution_count": 44,
   "id": "4bbac397-3e80-49c8-b985-aa75afbbb60d",
   "metadata": {},
   "outputs": [
    {
     "name": "stdin",
     "output_type": "stream",
     "text": [
      "Enter a number:  1235\n"
     ]
    },
    {
     "name": "stdout",
     "output_type": "stream",
     "text": [
      "It is not a Palindrome\n"
     ]
    }
   ],
   "source": [
    "# **Check for Palindrome Number:**\n",
    "#     Write a program to check if a given number is a palindrome using a loop.\n",
    "\n",
    "def palindrome(n):    \n",
    "    rev_num = 0\n",
    "    while n>0:\n",
    "        rem = n % 10\n",
    "        rev_num = rev_num * 10 + rem\n",
    "        n //= 10\n",
    "    return rev_num\n",
    "num = int(input(\"Enter a number: \"))\n",
    "number = palindrome(num)\n",
    "if number == num :\n",
    "    print(\" Given number is palindrome\")\n",
    "else:\n",
    "    print(\"It is not a Palindrome\")"
   ]
  },
  {
   "cell_type": "code",
   "execution_count": 45,
   "id": "d4ee3f9a-b01d-4ea2-95b5-d90c5905e22e",
   "metadata": {},
   "outputs": [
    {
     "name": "stdout",
     "output_type": "stream",
     "text": [
      "[3, 5, 3]\n"
     ]
    }
   ],
   "source": [
    "\n",
    "# 13. **Prime Factorization:**\n",
    "#     Create a program to find and print the prime factorization of a given number.\n",
    "\n",
    "def prime_factor(n):\n",
    "    sqrt = int(n**0.5)\n",
    "    factors = []\n",
    "    for i in range (2,sqrt+1):\n",
    "        if n % i == 0:\n",
    "            factors.append(i)\n",
    "            n //= i\n",
    "    if n>1:\n",
    "        factors.append(n)\n",
    "    return factors\n",
    "\n",
    "print(prime_factor(45))"
   ]
  },
  {
   "cell_type": "code",
   "execution_count": 47,
   "id": "192c71d8-acac-412c-a78c-0574b7b3c0de",
   "metadata": {},
   "outputs": [
    {
     "name": "stdout",
     "output_type": "stream",
     "text": [
      "12\n"
     ]
    }
   ],
   "source": [
    "\n",
    "# 14. **GCD (Greatest Common Divisor) Calculator:**\n",
    "#     Write a program to calculate the GCD of two numbers using the Euclidean algorithm and a loop.\n",
    "n1,n2 = 36,60\n",
    "while n1 != n2:\n",
    "    if n1 > n2:\n",
    "        n1 -= n2\n",
    "    else:\n",
    "        n2 -= n1\n",
    "print(n1)\n",
    "        \n",
    "    \n",
    "        "
   ]
  },
  {
   "cell_type": "code",
   "execution_count": 52,
   "id": "fa934d99-052b-4025-b1ab-aaa5c330e182",
   "metadata": {},
   "outputs": [
    {
     "name": "stdin",
     "output_type": "stream",
     "text": [
      "enter a number :  34\n"
     ]
    },
    {
     "name": "stdout",
     "output_type": "stream",
     "text": [
      "it is not an armstrong number\n"
     ]
    }
   ],
   "source": [
    "# 15. **Check for Armstrong Number:**\n",
    "#     Implement a program to check if a given number is an Armstrong number using a loop.\n",
    "\n",
    "def armstrong_number (num):\n",
    "    s =0 \n",
    "    l= len ( str(num))\n",
    "    while num>0:\n",
    "        s += ((num%10)** l)\n",
    "        num //=10\n",
    "    return s\n",
    "n = int(input (\"enter a number : \"))\n",
    "h = armstrong_number(n)\n",
    "if n == h :\n",
    "    print(n, \" is a armstrong number\")\n",
    "else:\n",
    "    print(n,\" is not an armstrong number\")"
   ]
  },
  {
   "cell_type": "code",
   "execution_count": 5,
   "id": "d84253bd-abdd-48ef-8304-c4bd8cf339ef",
   "metadata": {},
   "outputs": [
    {
     "name": "stdin",
     "output_type": "stream",
     "text": [
      "Enter base num 3\n",
      "Enter exponent of a num 3\n"
     ]
    },
    {
     "name": "stdout",
     "output_type": "stream",
     "text": [
      "27\n"
     ]
    }
   ],
   "source": [
    "# **Calculate Power of a Number:**\n",
    "#     Write a program to calculate the power of a number using a loop.\n",
    "base= int(input(\"Enter base num\"))\n",
    "exp = int(input(\"Enter exponent of a num\"))\n",
    "result = 1\n",
    "# while exp != 0:\n",
    "#     result *= base\n",
    "#     exp -= 1\n",
    "# print(result)\n",
    "\n",
    "#using for loop\n",
    "for i in range (exp):\n",
    "    result *= base\n",
    "print(result)\n",
    "    "
   ]
  },
  {
   "cell_type": "code",
   "execution_count": 8,
   "id": "5e1b5d74-902a-41bd-943d-93ff09c2cb5a",
   "metadata": {},
   "outputs": [
    {
     "name": "stdin",
     "output_type": "stream",
     "text": [
      "enter a number : 28\n"
     ]
    },
    {
     "name": "stdout",
     "output_type": "stream",
     "text": [
      "it is  a perfect number\n"
     ]
    }
   ],
   "source": [
    "\n",
    "# 18. **Check for Perfect Number:**\n",
    "#     Write a program to check if a given number is a perfect number using a loop.\n",
    "# Example\n",
    "# Input : 28\n",
    "# Divisors : [1, 2, 4, 7, 14]\n",
    "# Sum = 1 + 2 + 4 + 7 + 14 = 28\n",
    "# Output : It's a Perfect Number\n",
    "\n",
    "n = int(input (\"enter a number :\"))\n",
    "sum =0\n",
    "for i in range (1,n): # or (1,n//2+1) This method uses fact that all the divisors of the number can be found in the range (1, num/2)\n",
    "    if n%i ==0:\n",
    "        sum += i\n",
    "if n == sum:\n",
    "    print(\"it is  a perfect number\")\n",
    "else:\n",
    "    print(\"not a perfect number\")"
   ]
  },
  {
   "cell_type": "code",
   "execution_count": null,
   "id": "ddb8ff76-4f57-4de1-b0e1-0c5f014a661b",
   "metadata": {},
   "outputs": [],
   "source": []
  }
 ],
 "metadata": {
  "kernelspec": {
   "display_name": "Python 3 (ipykernel)",
   "language": "python",
   "name": "python3"
  },
  "language_info": {
   "codemirror_mode": {
    "name": "ipython",
    "version": 3
   },
   "file_extension": ".py",
   "mimetype": "text/x-python",
   "name": "python",
   "nbconvert_exporter": "python",
   "pygments_lexer": "ipython3",
   "version": "3.12.0"
  }
 },
 "nbformat": 4,
 "nbformat_minor": 5
}
