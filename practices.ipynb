{
 "cells": [
  {
   "cell_type": "markdown",
   "id": "01bff001-ea47-4be9-84e7-1a61bafc6bb1",
   "metadata": {},
   "source": [
    "#select even digits "
   ]
  },
  {
   "cell_type": "code",
   "execution_count": 10,
   "id": "ecc3bf50-4a50-4015-8bbe-1e07077ecacd",
   "metadata": {},
   "outputs": [
    {
     "name": "stdout",
     "output_type": "stream",
     "text": [
      "2000,2002,2004,2006,2008,2020,2022,2024,2026,2028,2040,2042,2044,2046,2048,2060,2062,2064,2066,2068,2080,2082,2084,2086,2088,2200,2202,2204,2206,2208,2220,2222,2224,2226,2228,2240,2242,2244,2246,2248,2260,2262,2264,2266,2268,2280,2282,2284,2286,2288,2400,2402,2404,2406,2408,2420,2422,2424,2426,2428,2440,2442,2444,2446,2448,2460,2462,2464,2466,2468,2480,2482,2484,2486,2488,2600,2602,2604,2606,2608,2620,2622,2624,2626,2628,2640,2642,2644,2646,2648,2660,2662,2664,2666,2668,2680,2682,2684,2686,2688,2800,2802,2804,2806,2808,2820,2822,2824,2826,2828,2840,2842,2844,2846,2848,2860,2862,2864,2866,2868,2880,2882,2884,2886,2888\n"
     ]
    }
   ],
   "source": [
    "def allevendigits(n):\n",
    "    isevendigits = True \n",
    "    while n>0:\n",
    "        reminder = (n%10)\n",
    "        if reminder%2 != 0:\n",
    "            isevendigits = False\n",
    "            break\n",
    "        n = int(n/10)# we can use // also\n",
    "    return isevendigits\n",
    "\n",
    "x= [str(i) for i in range(2000,4000) if allevendigits(i)]\n",
    "print(\",\".join(x))"
   ]
  },
  {
   "cell_type": "code",
   "execution_count": 7,
   "id": "769cde2b-a049-49d7-ae52-21e3dfd700d2",
   "metadata": {},
   "outputs": [
    {
     "name": "stdout",
     "output_type": "stream",
     "text": [
      "hello\n"
     ]
    }
   ],
   "source": [
    "print(\"hello\")"
   ]
  },
  {
   "cell_type": "markdown",
   "id": "05ada936-d02b-42fb-ae0d-80206046af3a",
   "metadata": {},
   "source": [
    "#patterned qn and ans \n",
    "the qn is 2 +222+22222+22222222 = sum of this (input = 2)"
   ]
  },
  {
   "cell_type": "code",
   "execution_count": 13,
   "id": "fafb01fe-0f9f-4a2b-8577-2ecd1776105d",
   "metadata": {},
   "outputs": [
    {
     "name": "stdin",
     "output_type": "stream",
     "text": [
      "enter a number between (1-9):  7\n"
     ]
    },
    {
     "name": "stdout",
     "output_type": "stream",
     "text": [
      "7+777+77777+7777777 = 7856338\n"
     ]
    }
   ],
   "source": [
    " n= input(\"enter a number between (1-9): \")\n",
    "a = n\n",
    "a3 = n * 3\n",
    "a5 = n * 5\n",
    "a7 = n * 7\n",
    "result = int(a)+ int(a3) + int(a5) + int(a7)\n",
    "print (\"{0}+{1}+{2}+{3} = {4}\".format(a,a3,a5,a7,result))"
   ]
  },
  {
   "cell_type": "markdown",
   "id": "557b9764-b9f7-4768-8983-5c5e612abddc",
   "metadata": {},
   "source": [
    "#time "
   ]
  },
  {
   "cell_type": "code",
   "execution_count": 5,
   "id": "13925b07-063a-47ef-be35-85879a8d4a36",
   "metadata": {},
   "outputs": [
    {
     "name": "stdout",
     "output_type": "stream",
     "text": [
      "2023-12-09 12:00:54.549327\n",
      "09/12/23 12:00:54\n"
     ]
    }
   ],
   "source": [
    "from datetime import datetime \n",
    "# in my point of view datetime is a class now is a method we are creating object for that class and access the methods \n",
    "currenttime = datetime.now() # here date time object containing current date and time \n",
    "print(currenttime)\n",
    "print(currenttime.strftime(\"%d/%m/%y %H:%M:%S\"))"
   ]
  },
  {
   "cell_type": "code",
   "execution_count": 13,
   "id": "fc1c61ec-93ed-4ca2-bc89-6e82ead4427f",
   "metadata": {},
   "outputs": [
    {
     "name": "stdout",
     "output_type": "stream",
     "text": [
      "2023-12-09\n",
      "year: 2023\n",
      "month: 12\n",
      "day: 9\n",
      "09/12/23\n",
      "December 09,23\n",
      "Dec-09-2023\n"
     ]
    }
   ],
   "source": [
    "# access date module \n",
    "from datetime import date \n",
    "today = date.today()\n",
    "print(today)\n",
    "#formatting the dates\n",
    "print(\"year:\",today.year)\n",
    "print(\"month:\",today.month)\n",
    "print(\"day:\",today.day)\n",
    "print(today.strftime(\"%d/%m/%y\"))\n",
    "print (today.strftime(\"%B %d,%y\"))\n",
    "print(today.strftime(\"%b-%d-%Y\"))"
   ]
  },
  {
   "cell_type": "markdown",
   "id": "d5fe542e-89d3-471e-980c-08afd30e74fb",
   "metadata": {},
   "source": [
    "#time "
   ]
  },
  {
   "cell_type": "code",
   "execution_count": 16,
   "id": "0841c53c-52cf-4a03-9af1-5f0b671b2350",
   "metadata": {},
   "outputs": [
    {
     "name": "stdout",
     "output_type": "stream",
     "text": [
      "10:45:30.006798\n",
      "hour: 10\n",
      "minutes: 45\n",
      "seconds: 30\n",
      "microseconds: 6798\n"
     ]
    }
   ],
   "source": [
    "from datetime import time\n",
    "\n",
    "time1 = time(10,45,30,6798)\n",
    "print(time1)\n",
    "print(\"hour:\", time1.hour)\n",
    "print(\"minutes:\", time1.minute)\n",
    "print(\"seconds:\",time1.second)\n",
    "print(\"microseconds:\",time1.microsecond)"
   ]
  },
  {
   "cell_type": "code",
   "execution_count": 20,
   "id": "1fd06390-4e71-40cd-af7b-24a58fd8b482",
   "metadata": {},
   "outputs": [
    {
     "name": "stdout",
     "output_type": "stream",
     "text": [
      "2023-12-09 12:21:50.906008\n",
      "22 days, 11:38:09.093992\n"
     ]
    }
   ],
   "source": [
    "import datetime \n",
    "# for get current date and time use now method \n",
    "now_obj = datetime.datetime.now()\n",
    "print(now_obj)\n",
    "next_year = datetime.datetime(2024,1,1)\n",
    "print(next_year - now_obj) #timedelta obj is used for subtract and addition "
   ]
  },
  {
   "cell_type": "code",
   "execution_count": null,
   "id": "fafd3d41-a904-4d41-b330-0bde06f2c8d8",
   "metadata": {},
   "outputs": [],
   "source": [
    "#strftime method \n",
    "#this method converts datetime obj to strings \n",
    "\"\"\"\n",
    "%A returns the day like monday , tuesday , etc \n",
    "%B gives you month name \n",
    "%d gives you date \n",
    "%y gives you year \n",
    "%b abbrevated month name \n",
    "%I 12 hr clock\n",
    "%p am,pm\n",
    "\n",
    "\n",
    "\"\"\""
   ]
  },
  {
   "cell_type": "code",
   "execution_count": 22,
   "id": "06210895-3782-4c5a-928a-4df64431b903",
   "metadata": {},
   "outputs": [
    {
     "name": "stdout",
     "output_type": "stream",
     "text": [
      "2021-06-21 00:00:00\n"
     ]
    }
   ],
   "source": [
    "# # strptime method \n",
    "# this methhod is oppposute to strftime \n",
    "# it converts strings into datetime obj\n",
    "\n",
    "import datetime as dt\n",
    "date_string = \"21 june, 2021\"\n",
    "date_obj = dt.datetime.strptime(date_string, \"%d %B, %Y\")\n",
    "print(date_obj)"
   ]
  },
  {
   "cell_type": "code",
   "execution_count": null,
   "id": "fed9f904-cef2-48b4-bd93-e27a2de4b37f",
   "metadata": {},
   "outputs": [],
   "source": []
  }
 ],
 "metadata": {
  "kernelspec": {
   "display_name": "Python 3 (ipykernel)",
   "language": "python",
   "name": "python3"
  },
  "language_info": {
   "codemirror_mode": {
    "name": "ipython",
    "version": 3
   },
   "file_extension": ".py",
   "mimetype": "text/x-python",
   "name": "python",
   "nbconvert_exporter": "python",
   "pygments_lexer": "ipython3",
   "version": "3.12.0"
  }
 },
 "nbformat": 4,
 "nbformat_minor": 5
}
