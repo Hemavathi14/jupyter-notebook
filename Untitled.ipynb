{
 "cells": [
  {
   "cell_type": "markdown",
   "id": "34811c49-84f9-47c2-9c3d-de2b0b741d57",
   "metadata": {},
   "source": [
    "#**Arithmetic Operators:**\r\n",
    " #  Write a program to perform basic arithmetic operations (addition, subtraction, multiplication, division) on two numbers."
   ]
  },
  {
   "cell_type": "code",
   "execution_count": 2,
   "id": "76ae60f3-addc-4f10-922b-2692fbfdb56f",
   "metadata": {},
   "outputs": [
    {
     "name": "stdout",
     "output_type": "stream",
     "text": [
      "11\n",
      "-1\n",
      "30\n",
      "(0.8333333333333334, 0)\n"
     ]
    }
   ],
   "source": [
    "def add(a,b):\n",
    "    return a+b\n",
    "def sub (a,b):\n",
    "    return a-b\n",
    "def mul(a,b):\n",
    "    return a*b\n",
    "def div(a,b):\n",
    "    return a/b,a//b\n",
    "\n",
    "print(add(5,6))\n",
    "print(sub(5,6))\n",
    "print(mul(5,6))\n",
    "print(div(5,6))"
   ]
  },
  {
   "cell_type": "code",
   "execution_count": null,
   "id": "1c662e98-87f0-4bb7-ac33-d5e458f42839",
   "metadata": {},
   "outputs": [],
   "source": [
    "#**Comparison Operators:**\n",
    "   #Create a program that uses comparison operators to compare two numbers and print the result."
   ]
  },
  {
   "cell_type": "code",
   "execution_count": 5,
   "id": "ebbdeaf1-a8cc-42f6-8ac2-c058bcc4e80f",
   "metadata": {},
   "outputs": [
    {
     "name": "stdout",
     "output_type": "stream",
     "text": [
      " b is greater\n"
     ]
    }
   ],
   "source": [
    "a,b = 5.1,6.9\n",
    "\n",
    "if a > b:\n",
    "    print(\"a is greater\")\n",
    "elif a < b:\n",
    "    print(\" b is greater\")\n",
    "elif a == b:\n",
    "    print(\"both are same\")"
   ]
  },
  {
   "cell_type": "code",
   "execution_count": 7,
   "id": "c65079d0-1ca0-435b-8782-cc107b2283f8",
   "metadata": {},
   "outputs": [
    {
     "name": "stdout",
     "output_type": "stream",
     "text": [
      "4\n",
      "6\n",
      "2\n",
      "256\n",
      "0\n"
     ]
    }
   ],
   "source": [
    "# bitwise operator \n",
    "a,b = 4,6\n",
    "print(a&b)\n",
    "print(a|b)\n",
    "print(a^b)\n",
    "print(a<<b)\n",
    "print(a>>b)"
   ]
  },
  {
   "cell_type": "code",
   "execution_count": null,
   "id": "41cfdf07-d771-4400-bba4-850b7bdf05b6",
   "metadata": {},
   "outputs": [],
   "source": []
  }
 ],
 "metadata": {
  "kernelspec": {
   "display_name": "Python 3 (ipykernel)",
   "language": "python",
   "name": "python3"
  },
  "language_info": {
   "codemirror_mode": {
    "name": "ipython",
    "version": 3
   },
   "file_extension": ".py",
   "mimetype": "text/x-python",
   "name": "python",
   "nbconvert_exporter": "python",
   "pygments_lexer": "ipython3",
   "version": "3.12.0"
  }
 },
 "nbformat": 4,
 "nbformat_minor": 5
}
