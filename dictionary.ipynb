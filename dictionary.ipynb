{
 "cells": [
  {
   "cell_type": "markdown",
   "id": "25274b2a-9d8f-4ee6-b28e-ef313209db64",
   "metadata": {},
   "source": [
    "\n",
    "# 16. **Dictionary Initialization:**\n",
    "#     Write a program that initializes a dictionary and prints its contents."
   ]
  },
  {
   "cell_type": "code",
   "execution_count": 7,
   "id": "336b2cc7-6efe-497b-a8a1-4a45790d41b8",
   "metadata": {},
   "outputs": [
    {
     "name": "stdout",
     "output_type": "stream",
     "text": [
      "name hemavathi\n",
      "age 22\n",
      "gender female\n"
     ]
    }
   ],
   "source": [
    "# initialize dictionary \n",
    "dict = {}\n",
    "# assigning values \n",
    "value_pair = { \"name\" :\"hemavathi\",\n",
    "               \"age\" : 22,\n",
    "               \"gender\" : \"female\",\n",
    "             }\n",
    "for k,v in value_pair.items():\n",
    "    print(k,v)"
   ]
  },
  {
   "cell_type": "markdown",
   "id": "2f574bc0-fab4-406d-bd20-bc2a37779923",
   "metadata": {},
   "source": [
    "# **Dictionary Manipulation:**\n",
    "#     Implement a program that adds, updates, and deletes key-value pairs in a dictionary."
   ]
  },
  {
   "cell_type": "code",
   "execution_count": 24,
   "id": "7c010cd8-6402-41a4-90c3-5aae12974ba0",
   "metadata": {},
   "outputs": [
    {
     "name": "stdout",
     "output_type": "stream",
     "text": [
      "{'name': 'hema ', 'phone no': 224354, 'job': 'fresher'}\n",
      "{'name': 'hema ', 'phone no': 224354, 'job': 'fresher', 'city': 'vellore'}\n",
      "{'name': 'hema ', 'phone no': 1234567, 'job': 'fresher', 'city': 'vellore'}\n",
      "{'name': 'hema ', 'job': 'fresher', 'city': 'vellore'}\n",
      "{}\n",
      "{'fkjdbf': 'jdfjhdf'}\n",
      "{'fkjdbf': 'jdfjhdf', 1: 'one'}\n"
     ]
    }
   ],
   "source": [
    "dictionary = { \"name\" : \"hema \",\n",
    "              \"phone no\" : 224354,\n",
    "              \"job\":\"fresher\"\n",
    "             }\n",
    "print(dictionary)\n",
    "dictionary[\"city\"] = \"vellore\" # adding data\n",
    "print(dictionary)\n",
    "dictionary[\"phone no\"] = 1234567 # changing values\n",
    "print(dictionary)\n",
    "del dictionary[\"phone no\"]\n",
    "print(dictionary)\n",
    "dictionary.clear()\n",
    "print(dictionary)\n",
    "d1={\"fkjdbf\":\"jdfjhdf\"}\n",
    "dictionary.update(d1)\n",
    "print(dictionary)\n",
    "dictionary.update([(1,\"one\")])\n",
    "print(dictionary)\n"
   ]
  },
  {
   "cell_type": "markdown",
   "id": "034de177-bcbc-41fe-bd71-430939e69d1b",
   "metadata": {},
   "source": [
    "# **Nested Dictionaries:**\n",
    "#     Create a nested dictionary and access its values using both keys."
   ]
  },
  {
   "cell_type": "code",
   "execution_count": 28,
   "id": "7d8eefa1-ab7b-4c3b-a259-5e371cf0a6c8",
   "metadata": {},
   "outputs": [
    {
     "name": "stdout",
     "output_type": "stream",
     "text": [
      "chotta bheem\n",
      "{'nick': 'hattori', 'pogo': 'chotta bheem', 'cn': 'tom and jerry', 'hangama': 'shinchan'}\n",
      "frozen\n"
     ]
    }
   ],
   "source": [
    "movies ={\"cartoons\":{\"nick\":\"hattori\",\n",
    "                     \"pogo\":\"chotta bheem\",\n",
    "                     \"cn\":\"tom and jerry\",\n",
    "                     \"hangama\":\"shinchan\"\n",
    "                    },\n",
    "        \"cartoon_movies\":{\"toy_story\":\"upto4\",\n",
    "                 \"cars\":\"cars4\",\n",
    "                 \"fairy tales\":\"frozen\"}} # nested list \n",
    "\n",
    "print(movies[\"cartoons\"][\"pogo\"])\n",
    "print(movies[\"cartoons\"])\n",
    "print(movies[\"cartoon_movies\"][\"fairy tales\"])\n",
    "\n"
   ]
  },
  {
   "cell_type": "markdown",
   "id": "e74c4f00-7068-4e58-b6b2-ed407ba37909",
   "metadata": {},
   "source": [
    "# **Dictionary Sorting:**\r\n",
    "  #  Write a program that sorts a dictionary by keys and prints the result."
   ]
  },
  {
   "cell_type": "code",
   "execution_count": 32,
   "id": "10023ce4-d590-414a-a4c1-c82ae46f4064",
   "metadata": {},
   "outputs": [
    {
     "name": "stdout",
     "output_type": "stream",
     "text": [
      "[('cn', 'tom and jerry'), ('hangama', 'shinchan'), ('nick', 'hattori'), ('pogo', 'chotta bheem')]\n",
      "['cartoon_movies', 'cartoons']\n",
      "['cn', 'hangama', 'nick', 'pogo']\n",
      "['cn', 'hangama', 'nick', 'pogo']\n",
      "['cars4', 'frozen', 'upto4']\n"
     ]
    }
   ],
   "source": [
    "sort_dict = sorted(movies[\"cartoons\"].items())\n",
    "print(sort_dict)\n",
    "sort_dict = sorted(movies)\n",
    "print(sort_dict)\n",
    "sort_dict = sorted(movies[\"cartoons\"])\n",
    "print(sort_dict)\n",
    "sort_dict = sorted(movies[\"cartoons\"].keys())\n",
    "print(sort_dict)\n",
    "sort_dict = sorted(movies[\"cartoon_movies\"].values())\n",
    "print(sort_dict)"
   ]
  },
  {
   "cell_type": "markdown",
   "id": "c7d2bd6c-3576-4fa8-94ee-b4a46e23be9f",
   "metadata": {},
   "source": [
    "<!-- **Dictionary Merging:**\r\n",
    "    Write a program that merges two dictionaries -->."
   ]
  },
  {
   "cell_type": "code",
   "execution_count": 34,
   "id": "844ad800-195a-4511-ac95-0cae76eb8dd8",
   "metadata": {},
   "outputs": [
    {
     "name": "stdout",
     "output_type": "stream",
     "text": [
      "{'a': 10, 'b': 8, 'd': 6, 'c': 4}\n",
      "None\n",
      "{'a': 10, 'b': 8}\n"
     ]
    }
   ],
   "source": [
    "# Python code to merge dict using a single \n",
    "# expression\n",
    "def Merge(dict1, dict2):\n",
    "\tres = {**dict1, **dict2}\n",
    "\treturn res\n",
    "def merge(dict1,dict2):\n",
    "    return(dict1.update(dict))\n",
    "# Driver code\n",
    "dict1 = {'a': 10, 'b': 8}\n",
    "dict2 = {'d': 6, 'c': 4}\n",
    "dict3 = Merge(dict1, dict2)\n",
    "print(dict3)m"
   ]
  },
  {
   "cell_type": "code",
   "execution_count": 35,
   "id": "7a4ed042-e1b9-41e1-8f37-3dcbbd1e0e64",
   "metadata": {},
   "outputs": [
    {
     "name": "stdout",
     "output_type": "stream",
     "text": [
      "None\n",
      "{'d': 6, 'c': 4, 'a': 10, 'b': 8}\n"
     ]
    }
   ],
   "source": [
    "# Python code to merge dict using update() method\n",
    "def Merge(dict1, dict2):\n",
    "\treturn(dict2.update(dict1))\n",
    "\n",
    "\n",
    "# Driver code\n",
    "dict1 = {'a': 10, 'b': 8}\n",
    "dict2 = {'d': 6, 'c': 4}\n",
    "\n",
    "# This returns None\n",
    "print(Merge(dict1, dict2))\n",
    "\n",
    "# changes made in dict2\n",
    "print(dict2)\n"
   ]
  },
  {
   "cell_type": "markdown",
   "id": "a8fa0c14-5bfe-4673-87c4-9810dbdc57a3",
   "metadata": {},
   "source": [
    "# **Key Existence Check:**\n",
    "#     Create a function that checks if a key exists in a dictionary."
   ]
  },
  {
   "cell_type": "code",
   "execution_count": 36,
   "id": "0538572f-0572-433e-a745-512f46484587",
   "metadata": {},
   "outputs": [
    {
     "name": "stdout",
     "output_type": "stream",
     "text": [
      "present\n"
     ]
    }
   ],
   "source": [
    "def checkkey(dict,key):\n",
    "    if key in dict.keys():\n",
    "        print(\"present\")\n",
    "    else:\n",
    "        print(\"not present\")\n",
    "dict = {\"a\":100,\"b\":200,\"c\":300}\n",
    "checkkey(dict,\"c\")"
   ]
  },
  {
   "cell_type": "markdown",
   "id": "4ff4f3a1-f535-46c5-bd86-45ede05576f8",
   "metadata": {},
   "source": [
    "# **Dictionary Comprehension:**\n",
    "#     Use dictionary comprehension to create a new dictionary based on an existing one"
   ]
  },
  {
   "cell_type": "code",
   "execution_count": 38,
   "id": "ab9d38ed-ad0a-4bca-9ebd-2598182ba083",
   "metadata": {},
   "outputs": [
    {
     "name": "stdout",
     "output_type": "stream",
     "text": [
      "{1: 1, 2: 4, 3: 9, 4: 16, 5: 25, 6: 36, 7: 49, 8: 64, 9: 81, 10: 100}\n"
     ]
    }
   ],
   "source": [
    "# syntax dictionary = {key: value for vars in iterable}\n",
    "emp_dict ={}\n",
    "for i in range(1,11):\n",
    "    emp_dict[i] = i*i\n",
    "print(emp_dict)"
   ]
  },
  {
   "cell_type": "code",
   "execution_count": 44,
   "id": "3067c6b4-ef92-4287-8ed0-014d7efc1078",
   "metadata": {},
   "outputs": [
    {
     "name": "stdout",
     "output_type": "stream",
     "text": [
      "[1, 4, 9, 16, 25, 36, 49, 64, 81, 100]\n"
     ]
    }
   ],
   "source": [
    "emp_dict =[]\n",
    "for i in range(1,11):\n",
    "    emp_dict.append(i*i)\n",
    "print(emp_dict)"
   ]
  },
  {
   "cell_type": "code",
   "execution_count": 45,
   "id": "cca1f8dd-1401-43c2-a773-f2d72f34d6a5",
   "metadata": {},
   "outputs": [
    {
     "name": "stdout",
     "output_type": "stream",
     "text": [
      "{1: 1, 2: 4, 3: 9, 4: 16, 5: 25, 6: 36, 7: 49, 8: 64, 9: 81, 10: 100}\n"
     ]
    }
   ],
   "source": [
    "d = {n:n*n for n in range(1,11)}\n",
    "print(d)"
   ]
  },
  {
   "cell_type": "markdown",
   "id": "a5720e15-ab5b-4911-993d-953580da3c3b",
   "metadata": {},
   "source": [
    "**Value Extraction:**\n",
    "    Write a program that extracts all values from a list of dictionaries."
   ]
  },
  {
   "cell_type": "code",
   "execution_count": 48,
   "id": "7835dfc0-e4b6-4256-9079-a584f7b3c186",
   "metadata": {},
   "outputs": [
    {
     "name": "stdout",
     "output_type": "stream",
     "text": [
      "d\n",
      "c\n",
      "a\n",
      "b\n"
     ]
    }
   ],
   "source": [
    " d = [{7058: 'sravan', 7059: 'jyothika', 7072: 'harsha', 7075: 'deepika'},{'d': 6, 'c': 4, 'a': 10, 'b': 8}]\n",
    "for i in d[1].keys():\n",
    "    print(i)\n"
   ]
  },
  {
   "cell_type": "markdown",
   "id": "066373c6-50c0-4007-adf7-13703bdd8a3e",
   "metadata": {},
   "source": [
    "**Dictionary Filtering:**\n",
    "    Implement a function that filters a dictionary based on a given condition."
   ]
  },
  {
   "cell_type": "code",
   "execution_count": 49,
   "id": "693527ce-d866-42d5-af49-e01dcfbbff76",
   "metadata": {},
   "outputs": [
    {
     "name": "stdout",
     "output_type": "stream",
     "text": [
      "[6, 4, 10, 8]\n"
     ]
    }
   ],
   "source": [
    "v = {'d': 6, 'c': 4, 'a': 10, 'b': 8,'e':9}\n",
    "x=[i  for i in v.values() if i %2 == 0]\n",
    "print(x)\n"
   ]
  },
  {
   "cell_type": "markdown",
   "id": "34423b5c-7ffa-4e3e-8669-10e6ce83bc5e",
   "metadata": {},
   "source": [
    "**Dictionary Keys to List:**\n",
    "    Implement a program that converts dictionary keys to a list."
   ]
  },
  {
   "cell_type": "code",
   "execution_count": 51,
   "id": "7f95a533-5d0e-488d-bef4-696aacb9f04f",
   "metadata": {},
   "outputs": [
    {
     "name": "stdout",
     "output_type": "stream",
     "text": [
      "['d', 'c', 'a', 'b', 'e']\n"
     ]
    }
   ],
   "source": [
    "v = {'d': 6, 'c': 4, 'a': 10, 'b': 8,'e':9}\n",
    "x=[i  for i in v.keys() ]\n",
    "print(x)\n",
    "\n"
   ]
  },
  {
   "cell_type": "markdown",
   "id": "a0c73fd5-e64b-4f38-8f89-add77fe3f0f1",
   "metadata": {},
   "source": [
    "**Frequency Distribution:**\n",
    "    Create a function that takes a list and returns a dictionary with the frequency of each element"
   ]
  },
  {
   "cell_type": "code",
   "execution_count": 52,
   "id": "78ace3f8-6bcc-4dd1-89aa-ec3b1e28d57d",
   "metadata": {},
   "outputs": [
    {
     "name": "stdout",
     "output_type": "stream",
     "text": [
      "{1: 2, 3: 2, 4: 3, 5: 3, 6: 2, 7: 3, 8: 1, 9: 3, 2: 1}\n"
     ]
    }
   ],
   "source": [
    "l=[1,3,4,5,6,7,8,9,9,1,2,3,5,6,7,9,7,5,4,4]\n",
    "d = {}\n",
    "for i in l:\n",
    "    if i not in d.keys():\n",
    "        d[i] = 1\n",
    "    else:\n",
    "        d[i] += 1\n",
    "print(d)"
   ]
  },
  {
   "cell_type": "markdown",
   "id": "13f5361e-0402-45aa-86e2-204f2c89b2b9",
   "metadata": {},
   "source": [
    "**Inverse Dictionary:**\n",
    "    Write a function that creates an inverse dictionary (swaps keys and values)."
   ]
  },
  {
   "cell_type": "code",
   "execution_count": 54,
   "id": "65c76f14-b33d-4dae-b9a6-ca17bb84e1e0",
   "metadata": {},
   "outputs": [
    {
     "name": "stdout",
     "output_type": "stream",
     "text": [
      "{6: 'd', 4: 'c', 10: 'a', 8: 'b', 9: 'e'}\n"
     ]
    }
   ],
   "source": [
    "v = {'d': 6, 'c': 4, 'a': 10, 'b': 8,'e':9}\n",
    "x={value:key for key,value in v.items()}\n",
    "print(x)"
   ]
  },
  {
   "cell_type": "code",
   "execution_count": null,
   "id": "ec0e0c68-833c-476c-966f-835f2f2ba1e4",
   "metadata": {},
   "outputs": [],
   "source": []
  }
 ],
 "metadata": {
  "kernelspec": {
   "display_name": "Python 3 (ipykernel)",
   "language": "python",
   "name": "python3"
  },
  "language_info": {
   "codemirror_mode": {
    "name": "ipython",
    "version": 3
   },
   "file_extension": ".py",
   "mimetype": "text/x-python",
   "name": "python",
   "nbconvert_exporter": "python",
   "pygments_lexer": "ipython3",
   "version": "3.12.0"
  }
 },
 "nbformat": 4,
 "nbformat_minor": 5
}
