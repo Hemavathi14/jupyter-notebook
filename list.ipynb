{
 "cells": [
  {
   "cell_type": "code",
   "execution_count": 1,
   "id": "9531f68c-907b-46d1-803e-b26606873ced",
   "metadata": {},
   "outputs": [
    {
     "name": "stdout",
     "output_type": "stream",
     "text": [
      "2011\n"
     ]
    }
   ],
   "source": [
    "\n",
    "# 1. **Sum of List Elements:**\n",
    "#    Write a function that calculates the sum of all elements in a list\n",
    "\n",
    "num_list,sum = [1,354,657,387,534,78],0\n",
    "for i in num_list:\n",
    "    sum += i \n",
    "print(sum)"
   ]
  },
  {
   "cell_type": "code",
   "execution_count": 9,
   "id": "25bec835-7206-4b6d-95da-ba91e231914a",
   "metadata": {},
   "outputs": [
    {
     "name": "stdout",
     "output_type": "stream",
     "text": [
      "657 1\n",
      "657 1\n"
     ]
    }
   ],
   "source": [
    "# **Find Maximum and Minimum:**\n",
    "#    Implement a program that finds the maximum and minimum values in a list.\n",
    "print(max(num_list),min(num_list))\n",
    "length = len(num_list)\n",
    "sort_list = sorted(num_list)\n",
    "print(sort_list[length-1],sort_list[0])\n"
   ]
  },
  {
   "cell_type": "code",
   "execution_count": 11,
   "id": "59d69f0e-c521-462a-9474-a172681ef81b",
   "metadata": {},
   "outputs": [
    {
     "name": "stdout",
     "output_type": "stream",
     "text": [
      "[657, 534, 387, 354, 78, 1]\n"
     ]
    }
   ],
   "source": [
    " # **List Reversal:**\n",
    " #   Write a program to reverse a list in-place.\n",
    "num_list.sort(reverse = True)\n",
    "print(num_list)"
   ]
  },
  {
   "cell_type": "code",
   "execution_count": 12,
   "id": "cf2f2768-74b0-4d03-a166-80e02b974dcd",
   "metadata": {},
   "outputs": [
    {
     "name": "stdout",
     "output_type": "stream",
     "text": [
      "[534, 354, 78]\n"
     ]
    }
   ],
   "source": [
    "# **List Filtering:**\n",
    "#    Create a function that filters out even numbers from a list.\n",
    "even = [x for x in num_list if x%2 == 0]\n",
    "print(even)"
   ]
  },
  {
   "cell_type": "code",
   "execution_count": 13,
   "id": "fc50678e-72d7-42b5-9b70-f5c72975b11c",
   "metadata": {},
   "outputs": [
    {
     "name": "stdout",
     "output_type": "stream",
     "text": [
      "Concatenated list:\n",
      " [10, 11, 12, 13, 14, 20, 30, 42]\n"
     ]
    }
   ],
   "source": [
    "\n",
    "# 5. **List Concatenation:**\n",
    "#    Implement a program that concatenates two lists.\n",
    "\n",
    "import itertools\n",
    "list1 = [10, 11, 12, 13, 14] \n",
    "list2 = [20, 30, 42] \n",
    "\n",
    "res = list(itertools.chain(list1, list2)) \n",
    "   \n",
    "  \n",
    "print (\"Concatenated list:\\n \" + str(res))\n"
   ]
  },
  {
   "cell_type": "code",
   "execution_count": 14,
   "id": "5af01dd3-1d55-462f-b25a-ae86c7844d66",
   "metadata": {},
   "outputs": [
    {
     "name": "stdout",
     "output_type": "stream",
     "text": [
      "Concatenated list:\n",
      " [10, 11, 12, 13, 14, 20, 30, 42]\n"
     ]
    }
   ],
   "source": [
    "list1 = [10, 11, 12, 13, 14] \n",
    "list2 = [20, 30, 42] \n",
    "\n",
    "res = [*list1, *list2] \n",
    "  \n",
    "print (\"Concatenated list:\\n \" + str(res))"
   ]
  },
  {
   "cell_type": "code",
   "execution_count": null,
   "id": "8e765029-2775-4ef3-b843-7fba35206343",
   "metadata": {},
   "outputs": [],
   "source": [
    "list1 = [10, 11, 12, 13, 14] \n",
    "list2 = [20, 30, 42] \n",
    "\n",
    "res = [j for i in [list1, list2] for j in i] \n",
    "\n",
    "print (\"Concatenated list:\\n\"+ str(res))"
   ]
  },
  {
   "cell_type": "code",
   "execution_count": 16,
   "id": "a858e7c5-a646-49c2-bfe5-f95d1d35e188",
   "metadata": {},
   "outputs": [
    {
     "name": "stdout",
     "output_type": "stream",
     "text": [
      "[10, 11, 12, 13, 14]\n",
      "[14, 13, 12, 11, 10]\n"
     ]
    }
   ],
   "source": [
    "# **List Sorting:**\n",
    "#    Write a program that sorts a list in ascending and descending order.\n",
    "\n",
    "asc = sorted(list1)\n",
    "print(asc)\n",
    "des = sorted(list1,reverse = True)\n",
    "print(des)"
   ]
  },
  {
   "cell_type": "code",
   "execution_count": 17,
   "id": "6af37f13-9355-44f7-85aa-f439d6d5038e",
   "metadata": {},
   "outputs": [
    {
     "name": "stdout",
     "output_type": "stream",
     "text": [
      "[100, 121, 144, 169, 196]\n"
     ]
    }
   ],
   "source": [
    "# **List Comprehension:**\n",
    "#    Use list comprehension to create a new list with squares of elements from an existing list.\n",
    "\n",
    "square_list = [x*x for x in list1]\n",
    "print(square_list)"
   ]
  },
  {
   "cell_type": "code",
   "execution_count": 18,
   "id": "e93ef3ea-f8dd-441d-8e4c-3120082a0e84",
   "metadata": {},
   "outputs": [
    {
     "name": "stdout",
     "output_type": "stream",
     "text": [
      "[1, 2, 3, 4, 56, 5, 67, 8, 9]\n"
     ]
    }
   ],
   "source": [
    "# **Remove Duplicates:**\n",
    "#    Write a function that removes duplicate elements from a list.\n",
    "\n",
    "list4 = [1,2,3,4,56,1,2,3,4,5,67,8,8,9,9]\n",
    "new_list = []\n",
    "for i in list4:\n",
    "    if i not in new_list:\n",
    "        new_list.append(i)\n",
    "print(new_list)\n",
    "        "
   ]
  },
  {
   "cell_type": "code",
   "execution_count": 4,
   "id": "417d6680-a26e-49d5-85d0-d8e9ae63df17",
   "metadata": {},
   "outputs": [
    {
     "name": "stdout",
     "output_type": "stream",
     "text": [
      "[1, 8, 9, 45]\n"
     ]
    }
   ],
   "source": [
    "# List Intersection:**\n",
    "#    Implement a program that finds the intersection of two lists.\n",
    "\n",
    "l1=[1,23,45,6,7,8,9]\n",
    "l2=[1,45,78,56,78,8,9]\n",
    "l3 = []\n",
    "s1 = set(l1)\n",
    "s2 = set(l2)\n",
    "for i in  s1:\n",
    "    if i in s2:\n",
    "        l3.append(i)\n",
    "\n",
    "print(l3)\n",
    "\n",
    "\n"
   ]
  },
  {
   "cell_type": "markdown",
   "id": "25ac955e-1bc7-44dd-a4a7-aee1664b6f69",
   "metadata": {},
   "source": [
    "**List Slicing:**\n",
    "    Write a program that demonstrates slicing to extract specific elements from a list."
   ]
  },
  {
   "cell_type": "code",
   "execution_count": 5,
   "id": "bdb0c458-d369-4475-86c5-9164ab8f8866",
   "metadata": {},
   "outputs": [
    {
     "name": "stdout",
     "output_type": "stream",
     "text": [
      "[1, 45, 78, 56, 78, 8, 9]\n",
      "[78, 56, 78, 8, 9]\n",
      "[1, 45, 78, 56, 78]\n",
      "[1, 78, 78, 9]\n",
      "[9, 8, 78, 56, 78, 45, 1]\n",
      "[9, 78, 78, 1]\n"
     ]
    }
   ],
   "source": [
    "# copy the list \n",
    "list3 = l2[:]\n",
    "print(list3)\n",
    "print(list3[2:]) # indes starts from 2\n",
    "print(list3[:5])# index ends in the range of  5 (4th index)\n",
    "print(list3[::2])#step func\n",
    "print(list3[::-1])\n",
    "print(list3[::-2])\n",
    "\n"
   ]
  },
  {
   "cell_type": "markdown",
   "id": "0129aab7-112c-4a68-9103-cd7b12a88208",
   "metadata": {},
   "source": [
    "# **List Rotation:**\n",
    "#     Create a program that rotates the elements of a list to the right."
   ]
  },
  {
   "cell_type": "code",
   "execution_count": 8,
   "id": "6eb977b2-70d9-44c9-a22c-b4502082d8a8",
   "metadata": {},
   "outputs": [
    {
     "name": "stdout",
     "output_type": "stream",
     "text": [
      "[89, 67, 0, 56, 5456, 656, 655, 1, 234, 5, 78]\n",
      "[56, 5456, 656, 655, 1, 234, 5, 78, 89, 67, 0]\n"
     ]
    }
   ],
   "source": [
    "# left rotation  l = [1,2,3,4] ,n=2 for n=1 l => 2341 for n= 2 l => 3412\n",
    "#right rotation l = [1,2,3,4] , n=2 for n=1 l=> 4123 for n=2 l => 3412\n",
    "l = [1,234,5,78,89,67,0,56,5456,656,655]\n",
    "s =str(l)\n",
    "n=4\n",
    "left_rotation =l[n:]+l[:n]\n",
    "right_rotation = l[-n:] +l[:-n]\n",
    "print(left_rotation)\n",
    "print(right_rotation)"
   ]
  },
  {
   "cell_type": "markdown",
   "id": "56a0b0d1-427e-4b14-a03e-8c94e999f5e6",
   "metadata": {},
   "source": [
    " # **List Flattening:**\n",
    " #    Write a function that flattens a nested list."
   ]
  },
  {
   "cell_type": "code",
   "execution_count": 11,
   "id": "0824d15d-26dd-4cd5-ad61-35f39ae022cb",
   "metadata": {},
   "outputs": [
    {
     "name": "stdout",
     "output_type": "stream",
     "text": [
      "[1, 3, 'gfg', 4, 5, 6, 'best']\n"
     ]
    }
   ],
   "source": [
    "test_list = [[1,3,\"gfg\"], [4,5], [6,\"best\"]]\n",
    "\n",
    "test_list = sum(test_list, [])\n",
    "\n",
    "print(test_list)\n"
   ]
  },
  {
   "cell_type": "code",
   "execution_count": 13,
   "id": "d02fda3b-bfdb-49a0-be82-b3184e297cf4",
   "metadata": {},
   "outputs": [
    {
     "name": "stdout",
     "output_type": "stream",
     "text": [
      "[1, 3, 'gfg', 45, 'best', 123, 4, 5, 6, 'best']\n"
     ]
    }
   ],
   "source": [
    "test_list = [[1,3,\"gfg\"], 45,\"best\",123,[4,5], [6,\"best\"]]\n",
    "emp_list =[]\n",
    "for i in test_list:\n",
    "    if isinstance(i,list) :\n",
    "        for j in i:\n",
    "            emp_list.append(j)\n",
    "    else:\n",
    "        emp_list.append(i)\n",
    "print(emp_list)"
   ]
  },
  {
   "cell_type": "markdown",
   "id": "693ecbc4-ed57-47e5-856e-2990efe4102e",
   "metadata": {},
   "source": [
    "# **List Shuffling:**\n",
    "#     Implement a program that shuffles the elements of a list randomly."
   ]
  },
  {
   "cell_type": "code",
   "execution_count": 16,
   "id": "01c2627e-1e73-4e5e-a1e4-9276b47d1c09",
   "metadata": {},
   "outputs": [
    {
     "name": "stdout",
     "output_type": "stream",
     "text": [
      "['best', 45, 5, 1, 6, 4, 123, 3, 'best', 'gfg']\n"
     ]
    }
   ],
   "source": [
    "import random \n",
    "(random.shuffle(emp_list))\n",
    "print(emp_list)"
   ]
  },
  {
   "cell_type": "code",
   "execution_count": null,
   "id": "3986649d-92c5-4f46-a8ca-4035e029994f",
   "metadata": {},
   "outputs": [],
   "source": []
  }
 ],
 "metadata": {
  "kernelspec": {
   "display_name": "Python 3 (ipykernel)",
   "language": "python",
   "name": "python3"
  },
  "language_info": {
   "codemirror_mode": {
    "name": "ipython",
    "version": 3
   },
   "file_extension": ".py",
   "mimetype": "text/x-python",
   "name": "python",
   "nbconvert_exporter": "python",
   "pygments_lexer": "ipython3",
   "version": "3.12.0"
  }
 },
 "nbformat": 4,
 "nbformat_minor": 5
}
