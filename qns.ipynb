{
 "cells": [
  {
   "cell_type": "markdown",
   "id": "f620ae3e-4e4f-4555-948f-ce3cd1063134",
   "metadata": {},
   "source": [
    "#Mock Test\n"
   ]
  },
  {
   "cell_type": "code",
   "execution_count": null,
   "id": "07148722-b543-4ee2-b00d-4890fe159031",
   "metadata": {},
   "outputs": [],
   "source": [
    "x = 2\n",
    "while x < 9:\n",
    "        print(x, end=\" \")\n",
    "        x = x + 1"
   ]
  },
  {
   "cell_type": "code",
   "execution_count": null,
   "id": "70a8e639-592c-47bc-8387-c9314be188ca",
   "metadata": {},
   "outputs": [],
   "source": [
    "S =\"GoOD MORNING\"\n",
    "print (S.capitalize (),S.title () ,end=\"!\")"
   ]
  },
  {
   "cell_type": "code",
   "execution_count": null,
   "id": "06f2f2dc-c75e-43eb-8a86-d60c032cf351",
   "metadata": {},
   "outputs": [],
   "source": [
    "x = 3\n",
    "def myfunc():\n",
    "    global x\n",
    "    x+=2\n",
    "    print(x, end=' ')\n",
    "print(x, end=' ')\n",
    "myfunc()\n",
    "print(x, end=' ') #ans 355"
   ]
  },
  {
   "cell_type": "code",
   "execution_count": null,
   "id": "54ee590c-2232-4299-964f-99c1101fc515",
   "metadata": {},
   "outputs": [],
   "source": [
    "S=\"WELcOME\"\n",
    "\n",
    "def Change (T) :\n",
    "       T=\"HELLO\"\n",
    "       print (T, end='@')\n",
    "Change (S)\n",
    "print (S) #HELLO@WELcOME"
   ]
  },
  {
   "cell_type": "code",
   "execution_count": null,
   "id": "20968b28-90f0-4ea9-ac8b-e94be57dcad2",
   "metadata": {},
   "outputs": [],
   "source": [
    "S = “Welcome to class XII” # Statement 1\n",
    "Print(S)                                 # Statement 2\n",
    "S=”Thanks you”                 # Statement 3\n",
    "S[0] = ‘@’                            # Statement 4\n",
    "S=S+”Thank you”              #Statement 5\n",
    "# ans statement 2 and statement 4"
   ]
  },
  {
   "cell_type": "code",
   "execution_count": null,
   "id": "76cb20ce-36cf-430a-9ad4-f431290daa17",
   "metadata": {},
   "outputs": [],
   "source": [
    "def FunStr (S):\n",
    "\n",
    " T=''\n",
    "\n",
    " for i in S:\n",
    "\n",
    "       if i.isdigit ():\n",
    "\n",
    "              T = T +i\n",
    "\n",
    "       return T\n",
    "\n",
    "X= \"PYTHON 3.9\"\n",
    "\n",
    "Y = FunStr (X)\n",
    "\n",
    "print (X, Y, sep=\"*\") #ans PYTHON 3.9*"
   ]
  },
  {
   "cell_type": "code",
   "execution_count": null,
   "id": "72e5ffeb-29c4-4990-977b-3741e999a2f1",
   "metadata": {},
   "outputs": [],
   "source": [
    "b = 1\n",
    "for a in range(1, 10, 2):\n",
    "\n",
    "          b += a + 2\n",
    "print(b) #36"
   ]
  },
  {
   "cell_type": "code",
   "execution_count": null,
   "id": "1e222c2c-8368-4a97-8192-275d39e9fed1",
   "metadata": {},
   "outputs": [],
   "source": [
    "tuple1 = (111, 222, 333, 444, 555, 666)\n",
    "\n",
    "list1 = list(tuple1)\n",
    "\n",
    "new_list = []\n",
    "\n",
    "for i in list1:\n",
    "\n",
    "    if   i%2==0:\n",
    "\n",
    "         new_list.append(i)\n",
    "\n",
    "new_tuple = tuple(new_list)\n",
    "\n",
    "print(new_tuple)"
   ]
  },
  {
   "cell_type": "code",
   "execution_count": null,
   "id": "e311f5a4-02a4-41a2-8dcc-f187c349a1d6",
   "metadata": {},
   "outputs": [],
   "source": [
    "def convert():\n",
    "    Name = \"PythoN3.10\"\n",
    "    R = \"\"\n",
    "    for x in range(len(Name)):\n",
    "        if Name[x].isupper():\n",
    "            R = R + Name[x].lower()\n",
    "        elif Name[x].islower():\n",
    "            R = R + Name[x].upper()\n",
    "        elif Name[x].isdigit():\n",
    "            R = R + Name[x - 1]\n",
    "        else:\n",
    "            R = R + \"#\"\n",
    "    print(R)\n",
    "\n",
    "convert() # pYTHOnN#.1"
   ]
  },
  {
   "cell_type": "code",
   "execution_count": null,
   "id": "68a6c702-4b1e-4ffa-8a4e-075afe090166",
   "metadata": {},
   "outputs": [],
   "source": []
  },
  {
   "cell_type": "code",
   "execution_count": null,
   "id": "b5671366-3252-4e58-bb58-8636116bca09",
   "metadata": {},
   "outputs": [],
   "source": []
  },
  {
   "cell_type": "code",
   "execution_count": null,
   "id": "771c1a5e-7a72-472a-8033-403692b6c01f",
   "metadata": {},
   "outputs": [],
   "source": []
  }
 ],
 "metadata": {
  "kernelspec": {
   "display_name": "Python 3 (ipykernel)",
   "language": "python",
   "name": "python3"
  },
  "language_info": {
   "codemirror_mode": {
    "name": "ipython",
    "version": 3
   },
   "file_extension": ".py",
   "mimetype": "text/x-python",
   "name": "python",
   "nbconvert_exporter": "python",
   "pygments_lexer": "ipython3",
   "version": "3.11.5"
  }
 },
 "nbformat": 4,
 "nbformat_minor": 5
}
