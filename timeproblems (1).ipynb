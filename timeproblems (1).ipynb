{
 "cells": [
  {
   "cell_type": "markdown",
   "id": "a89f99ac-8d75-49a5-bbbd-ced14357f526",
   "metadata": {},
   "source": [
    "# 1. **Current Date and Time:**\n",
    "  # Write a program that prints the current date and time"
   ]
  },
  {
   "cell_type": "code",
   "execution_count": 5,
   "id": "20a1cd4b-ec71-491b-b8e1-b327a2b39da9",
   "metadata": {},
   "outputs": [
    {
     "name": "stdout",
     "output_type": "stream",
     "text": [
      "2023-12-09 1702112383.5032809 Sat Dec  9 14:29:43 2023\n",
      "2023-12-09 14:29:43.503280\n"
     ]
    }
   ],
   "source": [
    "from datetime import date\n",
    "import datetime\n",
    "import time \n",
    "\n",
    "obj1 = date.today()\n",
    "obj2 = time.time()\n",
    "print(obj1,obj2,time.ctime(obj2))\n",
    "print(datetime.datetime.now())\n",
    "\n"
   ]
  },
  {
   "cell_type": "markdown",
   "id": "11914086-762e-4814-b02d-0afb1d32d2cc",
   "metadata": {},
   "source": [
    "# **Age Calculator:**\n",
    "  # Create a program that takes a birthdate as input and calculates the age of a person."
   ]
  },
  {
   "cell_type": "code",
   "execution_count": 20,
   "id": "31e86746-a0e5-4988-b810-9723333dc29f",
   "metadata": {},
   "outputs": [
    {
     "name": "stdin",
     "output_type": "stream",
     "text": [
      "enter your year of birth  : 1966\n",
      "enter your month of birth  : 3\n",
      "enter your date of birth  : 7\n"
     ]
    },
    {
     "name": "stdout",
     "output_type": "stream",
     "text": [
      "1966-3-7\n",
      " your age is  57\n"
     ]
    }
   ],
   "source": [
    "from datetime import datetime ,timedelta\n",
    "\n",
    "year = int(input (\"enter your year of birth  :\"))\n",
    "month = int(input (\"enter your month of birth  :\"))\n",
    "date = int(input (\"enter your date of birth  :\"))\n",
    "noww = datetime.now()\n",
    "dob=(\"{}-{}-{}\".format(year,month,date))\n",
    "print(dob)\n",
    "dob_obj = datetime.strptime(dob,\"%Y-%m-%d\")\n",
    "age =  noww.year - dob_obj.year -((noww.month,noww.day) < (dob_obj.month,dob_obj.day))\n",
    "print(\" your age is \", age )"
   ]
  },
  {
   "cell_type": "code",
   "execution_count": 4,
   "id": "72a315f1-90f8-4a49-9811-f7b613e8b488",
   "metadata": {},
   "outputs": [
    {
     "name": "stdout",
     "output_type": "stream",
     "text": [
      "2000-03-26\n"
     ]
    }
   ],
   "source": [
    "from datetime import date \n",
    "edate = date(2000,3,26)\n",
    "print(edate)"
   ]
  },
  {
   "cell_type": "code",
   "execution_count": 5,
   "id": "7b214bc7-3a06-4721-bfb3-b6fb15e07d38",
   "metadata": {},
   "outputs": [
    {
     "name": "stdout",
     "output_type": "stream",
     "text": [
      "05:32:45\n"
     ]
    }
   ],
   "source": [
    "from datetime import time\n",
    "t = time(5,32,45)\n",
    "print(t)"
   ]
  },
  {
   "cell_type": "markdown",
   "id": "d4e2c5b2-78ed-4693-b4c7-cd4357e5782b",
   "metadata": {},
   "source": [
    "**Days Until a Future Date:**\n",
    "   Implement a program that calculates and prints the number of days until a specified future date."
   ]
  },
  {
   "cell_type": "code",
   "execution_count": 25,
   "id": "864e5bdd-8942-4ab6-a129-7d77f5afa026",
   "metadata": {},
   "outputs": [
    {
     "name": "stdout",
     "output_type": "stream",
     "text": [
      "2024-01-01 00:00:00\n",
      "18\n"
     ]
    }
   ],
   "source": [
    "from datetime import datetime \n",
    "future_date = \"2024-1-1\"\n",
    "current_date = datetime.now()\n",
    "obj = datetime.strptime(future_date , \"%Y-%m-%d\")\n",
    "days = (obj - current_date).days\n",
    "print(days)"
   ]
  },
  {
   "cell_type": "code",
   "execution_count": 33,
   "id": "8ddb5f3b-7c47-4a34-96b5-3d565f477dab",
   "metadata": {},
   "outputs": [
    {
     "name": "stdout",
     "output_type": "stream",
     "text": [
      "Wednesday\n"
     ]
    }
   ],
   "source": [
    "from datetime import datetime \n",
    "def weeksday(dstr):\n",
    "    date_obj = datetime.strptime(dstr,\"%Y-%m-%d\")\n",
    "    return date_obj.strftime(\"%A\")\n",
    "print(weeksday(\"2000-5-10\"))"
   ]
  },
  {
   "cell_type": "code",
   "execution_count": 28,
   "id": "1dbe289e-ebc9-4ac4-a47a-6471890d80ee",
   "metadata": {},
   "outputs": [
    {
     "name": "stdout",
     "output_type": "stream",
     "text": [
      "Day of the Week: Wednesday\n"
     ]
    }
   ],
   "source": [
    "from datetime import datetime\n",
    "\n",
    "def get_day_of_week(date_str):\n",
    "    date = datetime.strptime(date_str, \"%Y-%m-%d\")\n",
    "    return date.strftime(\"%A\")\n",
    "\n",
    "date_str = \"2023-12-13\"  # Replace with the desired date\n",
    "print(\"Day of the Week:\", get_day_of_week(date_str))\n"
   ]
  },
  {
   "cell_type": "code",
   "execution_count": null,
   "id": "651a4d87-ec70-4a92-b80b-fa90d230cbaa",
   "metadata": {},
   "outputs": [],
   "source": [
    "# **Difference Between Two Dates:**\n",
    "#    Write a program that calculates and prints the difference between two given dates.\n",
    "from datetime import datetime\n",
    "\n",
    "date_str1 = \"2023-12-13\"  # Replace with the first date\n",
    "date_str2 = \"2024-01-01\"  # Replace with the second date\n",
    "\n",
    "date1 = datetime.strptime(date_str1, \"%Y-%m-%d\")\n",
    "date2 = datetime.strptime(date_str2, \"%Y-%m-%d\")\n",
    "\n",
    "date_difference = date2 - date1\n",
    "print(\"Difference Between Two Dates:\", date_difference.days, \"days\")\n"
   ]
  },
  {
   "cell_type": "markdown",
   "id": "8a6c96a4-06ab-476e-884a-658809e24849",
   "metadata": {},
   "source": [
    "# **Next N Leap Years:**\n",
    "#    Create a program that prints the next N leap years."
   ]
  },
  {
   "cell_type": "code",
   "execution_count": 35,
   "id": "0e7ba223-304f-43bd-8bb4-ccabefdced88",
   "metadata": {},
   "outputs": [
    {
     "name": "stdout",
     "output_type": "stream",
     "text": [
      "[2024, 2028, 2032, 2036, 2040]\n"
     ]
    }
   ],
   "source": [
    "from datetime import datetime \n",
    "def next_n_ly(year,n):\n",
    "    leap_yr = []\n",
    "    while len(leap_yr) < n:\n",
    "        if (year % 4 == 0 and year%100 != 0) or year%400 == 0:\n",
    "            leap_yr.append(year)\n",
    "        year += 1\n",
    "    return leap_yr\n",
    "\n",
    "print(next_n_ly (datetime.now().year,5))"
   ]
  },
  {
   "cell_type": "markdown",
   "id": "194fe514-2d6f-4bc2-b14d-cc17e7a79788",
   "metadata": {},
   "source": [
    "**Days in a Month:**\n",
    "   Write a function that takes a month and year as input and returns the number of days in that month."
   ]
  },
  {
   "cell_type": "code",
   "execution_count": 36,
   "id": "3d9daaec-f28c-4b2e-bdcf-f4a96e2326ac",
   "metadata": {},
   "outputs": [
    {
     "ename": "ModuleNotFoundError",
     "evalue": "No module named 'calender'",
     "output_type": "error",
     "traceback": [
      "\u001b[1;31m---------------------------------------------------------------------------\u001b[0m",
      "\u001b[1;31mModuleNotFoundError\u001b[0m                       Traceback (most recent call last)",
      "Cell \u001b[1;32mIn[36], line 1\u001b[0m\n\u001b[1;32m----> 1\u001b[0m \u001b[38;5;28;01mfrom\u001b[39;00m \u001b[38;5;21;01mcalender\u001b[39;00m \u001b[38;5;28;01mimport\u001b[39;00m monthrange \n\u001b[0;32m      2\u001b[0m \u001b[38;5;28;01mdef\u001b[39;00m \u001b[38;5;21mmonth_range\u001b[39m(y,m):\n\u001b[0;32m      3\u001b[0m     m \u001b[38;5;241m=\u001b[39m monthrange(y,m)[\u001b[38;5;241m1\u001b[39m]\n",
      "\u001b[1;31mModuleNotFoundError\u001b[0m: No module named 'calender'"
     ]
    }
   ],
   "source": [
    "from calender import monthrange \n",
    "def month_range(y,m):\n",
    "    m = monthrange(y,m)[1]\n",
    "    return m\n",
    "print(month_range(2002,5))"
   ]
  },
  {
   "cell_type": "markdown",
   "id": "461e3b71-5562-4cb8-b5b0-e523cc271b6c",
   "metadata": {},
   "source": [
    "**Age in Days:**\n",
    "    Write a program that takes a birthdate as input and prints the age of a person in days"
   ]
  },
  {
   "cell_type": "code",
   "execution_count": 42,
   "id": "6ec84bbd-cd5c-4315-b1b4-dcf7cba9e7f0",
   "metadata": {},
   "outputs": [
    {
     "name": "stdin",
     "output_type": "stream",
     "text": [
      "enter your birthdate (yyyy - mm - dd) :  2001-9-14\n"
     ]
    },
    {
     "name": "stdout",
     "output_type": "stream",
     "text": [
      "8125\n"
     ]
    }
   ],
   "source": [
    "from datetime import datetime\n",
    "birthdate = input(\"enter your birthdate (yyyy - mm - dd) : \")\n",
    "b_obj = datetime.strptime(birthdate , \"%Y-%m-%d\")\n",
    "c_date = datetime.now()\n",
    "age_days = (c_date - b_obj).days\n",
    "print(age_days)"
   ]
  },
  {
   "cell_type": "markdown",
   "id": "039874fd-4e8d-489b-9050-3d97e1c99fa3",
   "metadata": {},
   "source": [
    "*Weekday Finder:**\n",
    "    Create a program that finds and prints all the weekdays in a given month."
   ]
  },
  {
   "cell_type": "code",
   "execution_count": null,
   "id": "5f850da0-9a5a-45cb-92c7-c2ab8d100f9e",
   "metadata": {},
   "outputs": [],
   "source": [
    "from calendar import monthcalendar\n",
    "\n",
    "def weekdays_in_month(year, month):\n",
    "    weeks = monthcalendar(year, month)\n",
    "    weekdays = [day for week in weeks for day in week if day != 0]\n",
    "    return weekdays\n",
    "\n",
    "year = 2023  # Replace with the desired year\n",
    "month = 5     # Replace with the desired month\n",
    "print(\"Weekdays in Month:\", weekdays_in_month(year, month))\n"
   ]
  },
  {
   "cell_type": "markdown",
   "id": "2dfbeddb-f3aa-4592-8f16-f7d47c9ca3f4",
   "metadata": {},
   "source": [
    "**Time Until Next Birthday:**\n",
    "    Implement a program that calculates and prints the time until the next birthday for a given birthdate."
   ]
  },
  {
   "cell_type": "code",
   "execution_count": 47,
   "id": "33a195df-d8c7-491c-b1d0-9fcbf1537096",
   "metadata": {},
   "outputs": [
    {
     "name": "stdout",
     "output_type": "stream",
     "text": [
      "2023-01-01 00:00:00\n",
      "Time Until Next Birthday: 18 days, 12:10:44.967670\n"
     ]
    }
   ],
   "source": [
    "from datetime import datetime\n",
    "\n",
    "birthdate_str = \"2000-01-01\"  # Replace with the birthdate\n",
    "birthdate = datetime.strptime(birthdate_str, \"%Y-%m-%d\")\n",
    "current_date = datetime.now()\n",
    "\n",
    "next_birthday = datetime(current_date.year, birthdate.month, birthdate.day)\n",
    "\n",
    "if current_date > next_birthday:\n",
    "    next_birthday = datetime(current_date.year + 1, birthdate.month, birthdate.day)\n",
    "\n",
    "time_until_next_birthday = next_birthday - current_date\n",
    "print(\"Time Until Next Birthday:\", time_until_next_birthday)\n"
   ]
  },
  {
   "cell_type": "markdown",
   "id": "62a5e66c-99ac-4a0b-9eae-7c6c052ff24a",
   "metadata": {},
   "source": [
    "**Quarter of the Year:**\n",
    "    Create a function that takes a date as input and returns the quarter of the year."
   ]
  },
  {
   "cell_type": "code",
   "execution_count": null,
   "id": "c101f9b3-0c14-48be-b55a-e0889205bf17",
   "metadata": {},
   "outputs": [],
   "source": [
    "from datetime import datetime\n",
    "\n",
    "def quarter_of_year(date_str):\n",
    "    date = datetime.strptime(date_str, \"%Y-%m-%d\")\n",
    "    \n",
    "    quarter = (date.month - 1) // 3 + 1\n",
    "    \n",
    "    return quarter\n",
    "\n",
    "date_str = \"2023-05-20\"  # Replace with the desired date\n",
    "print(\"Quarter of the Year:\", quarter_of_year(date_str))\n"
   ]
  },
  {
   "cell_type": "markdown",
   "id": "196733d8-64ef-448a-82bd-72488988ebc2",
   "metadata": {},
   "source": [
    "**Working Days Calculator:**\n",
    "    Implement a program that calculates the number of working days between two given dates, excluding weekends."
   ]
  },
  {
   "cell_type": "code",
   "execution_count": 53,
   "id": "f23d9723-e14e-4a7a-b628-84d75bcafbaa",
   "metadata": {},
   "outputs": [
    {
     "name": "stdout",
     "output_type": "stream",
     "text": [
      "14\n"
     ]
    }
   ],
   "source": [
    "from datetime import datetime,timedelta\n",
    "start_date = \"2023-12-13\"  # Replace with the start date\n",
    "end_date = \"2024-01-01\" \n",
    "sd = datetime.strptime(start_date,\"%Y-%m-%d\")\n",
    "ed = datetime.strptime(end_date,\"%Y-%m-%d\")\n",
    "wd =0 \n",
    "cd = sd\n",
    "while cd <= ed :\n",
    "    if cd.weekday()<5:\n",
    "        wd += 1\n",
    "    cd += timedelta(days=1)\n",
    "print(wd)\n"
   ]
  },
  {
   "cell_type": "code",
   "execution_count": null,
   "id": "ef75159d-a1b0-4fb9-a077-161afb8b8712",
   "metadata": {},
   "outputs": [],
   "source": []
  }
 ],
 "metadata": {
  "kernelspec": {
   "display_name": "Python 3 (ipykernel)",
   "language": "python",
   "name": "python3"
  },
  "language_info": {
   "codemirror_mode": {
    "name": "ipython",
    "version": 3
   },
   "file_extension": ".py",
   "mimetype": "text/x-python",
   "name": "python",
   "nbconvert_exporter": "python",
   "pygments_lexer": "ipython3",
   "version": "3.12.0"
  }
 },
 "nbformat": 4,
 "nbformat_minor": 5
}
