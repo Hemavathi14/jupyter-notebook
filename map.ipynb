{
 "cells": [
  {
   "cell_type": "code",
   "execution_count": 2,
   "id": "0e9ce73f-ef18-4160-b3c3-2eb8131c3054",
   "metadata": {},
   "outputs": [
    {
     "name": "stdout",
     "output_type": "stream",
     "text": [
      "hello\n"
     ]
    }
   ],
   "source": [
    "print(\"hello\")"
   ]
  },
  {
   "cell_type": "markdown",
   "id": "f332bfb6-9feb-46bc-9b21-6b63004c60fe",
   "metadata": {},
   "source": [
    "# MAP syntax :map(function,iterable)\n",
    "here we have to give only iterable onjects\n",
    "we only store it in list only otherwise it returns the address\n",
    " "
   ]
  },
  {
   "cell_type": "code",
   "execution_count": 8,
   "id": "deb46872-f05c-4b6c-9b52-8ea6eadde993",
   "metadata": {},
   "outputs": [
    {
     "name": "stdout",
     "output_type": "stream",
     "text": [
      "[('shoe', 10.54), ('phone', 0.34), ('book', 4.59), ('pen', 1.03)]\n"
     ]
    }
   ],
   "source": [
    "items = [(3456,\"shoe\",780),(3566,\"phone\",25,000),(2537,\"book\",340),(4653,\"pen\",76)]\n",
    "inr_usd = lambda item:(item[0],item[1],round((item[2]/74),2))\n",
    "inr_usd = lambda item:(item[1],round((item[2]/74),2))\n",
    "usd=list(map(inr_usd,items))\n",
    "print(usd)"
   ]
  },
  {
   "cell_type": "code",
   "execution_count": 2,
   "id": "44989113-1aa1-4c92-a459-ac857252dd80",
   "metadata": {},
   "outputs": [
    {
     "name": "stdout",
     "output_type": "stream",
     "text": [
      "[1, 4, 9, 16, 25, 36, 49, 64, 81]\n"
     ]
    }
   ],
   "source": [
    "val = [1,2,3,4,5,6,7,8,9]\n",
    "sqr_val = list(map(lambda x: x*x ,val))\n",
    "print(sqr_val)"
   ]
  },
  {
   "cell_type": "code",
   "execution_count": 3,
   "id": "7e114ea8-c272-4076-8f39-083f4904734a",
   "metadata": {},
   "outputs": [
    {
     "name": "stdout",
     "output_type": "stream",
     "text": [
      "[1, 4, 9, 16, 25, 36, 49, 64, 81]\n"
     ]
    }
   ],
   "source": [
    "def sq_qn(num):\n",
    "    return num*num\n",
    "square_val=list(map(sq_qn,val))\n",
    "print(square_val)"
   ]
  },
  {
   "cell_type": "code",
   "execution_count": 7,
   "id": "41992264-8bc9-409b-b6f9-78c80ae3767f",
   "metadata": {},
   "outputs": [
    {
     "name": "stdout",
     "output_type": "stream",
     "text": [
      "[('Anitha', 90.0), ('Anand', 91.0), ('Balaji', 85.0), ('Chandru', 95.0)]\n"
     ]
    }
   ],
   "source": [
    "students=[(\"maths\",\"anitha\",180),(\"biology\",\"anand\",182),(\"biology\",\"balaji\",170),(\"maths\",\"chandru\",190)]\n",
    "stu_mark = lambda item:(item[1].title(),(item[2]/2))\n",
    "print(list(map(stu_mark,students)))"
   ]
  },
  {
   "cell_type": "code",
   "execution_count": 9,
   "id": "c65253b1-fb7d-4c7a-8040-26012f5e5fd8",
   "metadata": {},
   "outputs": [
    {
     "name": "stdout",
     "output_type": "stream",
     "text": [
      "['even', 'even', 'odd', 'even', 'even']\n"
     ]
    }
   ],
   "source": [
    "number=[72,78,99,12,56]\n",
    "print(list(map(lambda num: \"even\" if num%2==0 else \"odd\",number)))\n"
   ]
  },
  {
   "cell_type": "code",
   "execution_count": 11,
   "id": "3fdac507-1626-469c-892a-f8c83eb69d49",
   "metadata": {},
   "outputs": [
    {
     "name": "stdout",
     "output_type": "stream",
     "text": [
      "[38.89, 37.22, 31.67, 21.11, 39.44]\n"
     ]
    }
   ],
   "source": [
    "temp = [102,99,89,70,103]\n",
    "print(list(map(lambda tem:round(((tem-32)*5)/9,2),temp)))"
   ]
  },
  {
   "cell_type": "markdown",
   "id": "4af005b4-5e80-4bdf-914d-0e4bccd67316",
   "metadata": {},
   "source": [
    "# Filter\n",
    "filter(function,iterable)\n",
    "a func is should be  defigned like , it returns either True or False , it adds true value and false value  \n"
   ]
  },
  {
   "cell_type": "code",
   "execution_count": 12,
   "id": "803dc99c-5056-4336-bf18-65106902ac40",
   "metadata": {},
   "outputs": [
    {
     "name": "stdout",
     "output_type": "stream",
     "text": [
      "[(3566, 'phone', 25, 0), (2537, 'book', 340), (4653, 'pen', 76)]\n",
      "[(3566, 'phone', 25, 0), (4653, 'pen', 76)]\n"
     ]
    }
   ],
   "source": [
    "less_than_500 = lambda item:item[2]<500\n",
    "filtered = list(filter(less_than_500,items))\n",
    "print(filtered)\n",
    "less_than_500 = lambda item:item[1][0] ==\"p\"\n",
    "filtered = list(filter(less_than_500,items))\n",
    "print(filtered)"
   ]
  },
  {
   "cell_type": "code",
   "execution_count": 14,
   "id": "2d0119d0-ee27-44c5-815e-99ac6faa782b",
   "metadata": {},
   "outputs": [
    {
     "name": "stdout",
     "output_type": "stream",
     "text": [
      "[(3456, 'shoe', 780), (3566, 'phone', 25, 0)]\n"
     ]
    }
   ],
   "source": [
    "items = [(3456,\"shoe\",780),(3566,\"phone\",25,000),(2537,\"book\",340),(4653,\"pen\",76)]\n",
    "print(list(filter(lambda item:item[0] >3000 and item[0]<4000 ,items)))"
   ]
  },
  {
   "cell_type": "code",
   "execution_count": 20,
   "id": "407b6490-4229-4083-a3b4-ae9fe1dda693",
   "metadata": {},
   "outputs": [
    {
     "name": "stdout",
     "output_type": "stream",
     "text": [
      "[('maths', 'anitha', 180), ('maths', 'chandru', 190)]\n"
     ]
    }
   ],
   "source": [
    "students=[(\"maths\",\"anitha\",180),(\"biology\",\"anand\",182),(\"biology\",\"balaji\",170),(\"maths\",\"chandru\",190)]\n",
    "print(list(filter(lambda item:item[0][1] == \"a\",students)))"
   ]
  },
  {
   "cell_type": "code",
   "execution_count": 21,
   "id": "059b6706-79e3-424b-a742-f87b215291a8",
   "metadata": {},
   "outputs": [
    {
     "name": "stdout",
     "output_type": "stream",
     "text": [
      "[('biology', 'anand', 182), ('maths', 'chandru', 190)]\n"
     ]
    }
   ],
   "source": [
    "print(list(filter(lambda item:item[2] > 180,students)))"
   ]
  },
  {
   "cell_type": "markdown",
   "id": "a960eaae-92f5-43f9-8c71-9d777b2d7967",
   "metadata": {},
   "source": [
    "# REDUCE \n",
    "reduce(function,iterable),perform func on first 2 elements and repeats it until one value remains on the iterable \n",
    "we have to import functools"
   ]
  },
  {
   "cell_type": "code",
   "execution_count": 19,
   "id": "eab732d9-0506-40ff-982a-f370658bff5b",
   "metadata": {},
   "outputs": [
    {
     "name": "stdout",
     "output_type": "stream",
     "text": [
      "45\n"
     ]
    }
   ],
   "source": [
    "import functools\n",
    "#value = [1,2,3,4,5,6,7,8,9]\n",
    "sum = functools.reduce(lambda x,y:x+y,val)\n",
    "print(sum)"
   ]
  },
  {
   "cell_type": "code",
   "execution_count": 22,
   "id": "5107f913-b624-4ce0-b3d4-379cb1ca7c05",
   "metadata": {},
   "outputs": [
    {
     "name": "stdout",
     "output_type": "stream",
     "text": [
      "abcdef\n"
     ]
    }
   ],
   "source": [
    "chars =['a','b','c','d','e','f']\n",
    "char_sum = functools.reduce(lambda x,y:x+y,chars)\n",
    "print(char_sum)"
   ]
  },
  {
   "cell_type": "markdown",
   "id": "460c2f8b-4c0a-4079-9508-0b9ab8e8e9e8",
   "metadata": {},
   "source": [
    "# List comprehension\n",
    "to create a new list from existing list\n",
    "list = [expression for item in iterable]\n"
   ]
  },
  {
   "cell_type": "code",
   "execution_count": 3,
   "id": "75218108-a550-4e22-bfac-9ca3e324ab18",
   "metadata": {},
   "outputs": [
    {
     "name": "stdout",
     "output_type": "stream",
     "text": [
      "[1, 4, 9, 16, 25, 36, 49, 64, 81, 100]\n",
      "[1, 4, 9, 16, 25, 36, 49, 64, 81, 100]\n"
     ]
    }
   ],
   "source": [
    "#printing square of a num with map and list comprehension\n",
    "sq_list=list(map(lambda x:x*x,range(1,11)))\n",
    "print(sq_list)\n",
    "pr_num=list(i*i for i in range(1,11))\n",
    "print(pr_num)"
   ]
  },
  {
   "cell_type": "code",
   "execution_count": 4,
   "id": "c84a93c4-5d12-4777-b66b-e31af72fc2d9",
   "metadata": {},
   "outputs": [
    {
     "name": "stdout",
     "output_type": "stream",
     "text": [
      "[28, 20, 29, 28]\n"
     ]
    }
   ],
   "source": [
    "#we can add if conditions also\n",
    "temp = [28,48,30,20,29,28,38,32]\n",
    "tem_list=list(i for i in temp if i<30)\n",
    "print(tem_list)"
   ]
  },
  {
   "cell_type": "code",
   "execution_count": 9,
   "id": "4c2a16cf-f743-41e0-95ba-cc00f53bdc48",
   "metadata": {},
   "outputs": [
    {
     "name": "stdout",
     "output_type": "stream",
     "text": [
      "[28, 0, 0, 20, 29, 28, 0, 0]\n"
     ]
    }
   ],
   "source": [
    "# if you want to add else , give if-else exp before for\n",
    "temp = [28,48,30,20,29,28,38,32]\n",
    "tem_list=[i if i<30 else 0 for i in temp ]\n",
    "print(tem_list)"
   ]
  },
  {
   "cell_type": "markdown",
   "id": "6fe70a33-834b-43cc-bf2f-45caa588e51e",
   "metadata": {},
   "source": [
    "# Dictionary comprehension\n",
    "dictionary = {key:expression for{key,value} in iterable}\n",
    "\n"
   ]
  },
  {
   "cell_type": "code",
   "execution_count": 10,
   "id": "1727d5d8-8b2a-4e48-b613-6e18bc484341",
   "metadata": {},
   "outputs": [
    {
     "name": "stdout",
     "output_type": "stream",
     "text": [
      "{'phone': 25000, 'lamp': 301, 'table': 5500, 'pen': 50, 'bag': 650, 'kettle': 1200}\n"
     ]
    }
   ],
   "source": [
    "cart = {\"phone\":25000.00,\"lamp\":300.70,\"table\":5499.99,\"pen\":50.12,\"bag\":650.30,\"kettle\":1200.34}\n",
    "cart_rounded = {key:round(val) for (key,val) in cart.items()} #if we use key ,val in key:round(val) , in for loop also use key,val\n",
    "print(cart_rounded)\n",
    "#we can modify key and values"
   ]
  },
  {
   "cell_type": "code",
   "execution_count": 11,
   "id": "af9ecdae-dfc9-40ef-adef-6fee07bed1d5",
   "metadata": {},
   "outputs": [
    {
     "name": "stdout",
     "output_type": "stream",
     "text": [
      "{'p': 50, 'l': 301, 't': 5500, 'b': 650, 'k': 1200}\n"
     ]
    }
   ],
   "source": [
    "cart_rounded = {key[0]:round(val) for (key,val) in cart.items()} #if we use key ,val in key:round(val) , in for loop also use key,val\n",
    "print(cart_rounded)"
   ]
  },
  {
   "cell_type": "code",
   "execution_count": 12,
   "id": "c18bf867-50b5-4ac2-8fdd-554fd539f68b",
   "metadata": {},
   "outputs": [
    {
     "name": "stdout",
     "output_type": "stream",
     "text": [
      "{'phone': 25000.0, 'table': 5499.99, 'kettle': 1200.34}\n"
     ]
    }
   ],
   "source": [
    "cart2 = {k:v for (k,v) in cart.items() if v>1000}\n",
    "print(cart2)"
   ]
  },
  {
   "cell_type": "code",
   "execution_count": 14,
   "id": "e99f8ff4-898b-4cd6-8d8c-f8f2d749e737",
   "metadata": {},
   "outputs": [
    {
     "name": "stdout",
     "output_type": "stream",
     "text": [
      "{'phone': 22500.0, 'lamp': 300.7, 'table': 5499.99, 'pen': 50.12, 'bag': 650.3, 'kettle': 1200.34}\n"
     ]
    }
   ],
   "source": [
    "#dictionary = {key: expression if else for{key,value} in iterable}\n",
    "cart3 = {key:val*.9 if val>20000 else val for (key,val) in cart.items()}\n",
    "print(cart3)"
   ]
  },
  {
   "cell_type": "code",
   "execution_count": 17,
   "id": "6ed219ac-7e58-4b37-a0a6-3c8db59bd72d",
   "metadata": {},
   "outputs": [
    {
     "name": "stdout",
     "output_type": "stream",
     "text": [
      "{'phone': 25000.0, 'lamp': 286, 'table': 5225, 'pen': 50.12, 'bag': 650.3, 'kettle': 1200.34}\n"
     ]
    }
   ],
   "source": [
    "#dictionary = {key:func for (key,val) in iterable}\n",
    "def func_disc(k,v):\n",
    "    if (k == \"lamp\" or k == \"table\"):\n",
    "        v=round(.95*v)\n",
    "    return v \n",
    "cart4= {k:func_disc(k,v) for (k,v) in cart.items()}\n",
    "print(cart4)\n",
    "    "
   ]
  },
  {
   "cell_type": "markdown",
   "id": "71e18351-4692-491d-9cf6-7d1bdb00e8db",
   "metadata": {},
   "source": [
    "# zip\n",
    "zips two or more iterable into a single iterable "
   ]
  },
  {
   "cell_type": "code",
   "execution_count": 18,
   "id": "236a1795-ee8e-4a9c-a850-c8d2ee6a9077",
   "metadata": {},
   "outputs": [
    {
     "name": "stdout",
     "output_type": "stream",
     "text": [
      "[('phone', 25000), ('table', 3000), ('lamp', 340), ('pen', 35), ('book', 400)]\n"
     ]
    }
   ],
   "source": [
    "items = (\"phone\",\"table\",\"lamp\",\"pen\",\"book\")\n",
    "prices = (25000,3000,340,35,400)\n",
    "zipped = list(zip(items,prices))\n",
    "print(zipped) # it returns as a tuple"
   ]
  },
  {
   "cell_type": "code",
   "execution_count": 22,
   "id": "962ec068-611b-432c-b621-5ca8f1892139",
   "metadata": {},
   "outputs": [
    {
     "name": "stdout",
     "output_type": "stream",
     "text": [
      "[('phone', 25000, 12), ('table', 3000, 34), ('lamp', 340, 56), ('pen', 35, 25)]\n",
      "[('phone', 25000, 12), ('table', 3000, 34), ('lamp', 340, 56)]\n"
     ]
    }
   ],
   "source": [
    "items = [\"phone\",\"table\",\"lamp\",\"pen\",\"book\"]\n",
    "prices = [25000,3000,340,35,400]\n",
    "stocks = [12,34,56,25]\n",
    "zipped = list(zip(items,prices,stocks))\n",
    "print(zipped)\n",
    "stocks = [12,34,56]\n",
    "zipped = list(zip(items,prices,stocks))\n",
    "print(zipped)# now it returns 3 values only"
   ]
  },
  {
   "cell_type": "code",
   "execution_count": null,
   "id": "422e71e3-7005-4211-9802-f13524cf261c",
   "metadata": {},
   "outputs": [],
   "source": []
  }
 ],
 "metadata": {
  "kernelspec": {
   "display_name": "Python 3 (ipykernel)",
   "language": "python",
   "name": "python3"
  },
  "language_info": {
   "codemirror_mode": {
    "name": "ipython",
    "version": 3
   },
   "file_extension": ".py",
   "mimetype": "text/x-python",
   "name": "python",
   "nbconvert_exporter": "python",
   "pygments_lexer": "ipython3",
   "version": "3.11.5"
  }
 },
 "nbformat": 4,
 "nbformat_minor": 5
}
